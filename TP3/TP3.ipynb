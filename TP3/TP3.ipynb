{
 "cells": [
  {
   "cell_type": "code",
   "execution_count": null,
   "metadata": {},
   "outputs": [],
   "source": [
    "def jogo_fosforos():\n",
    "    print(\"Bem vindo ao Jogo dos 21 Fósforos! Escolha um dos modos.\")\n",
    "    print(\"No Modo 1 você começa a jogar\")\n",
    "    print(\"No Modo 2 o compurador começa a jogar.\")\n",
    "    escolha = input(\"Digite 1 ou 2 para escolher um dos modos: \")\n",
    "    \n",
    "    if escolha == \"1\":\n",
    "        modo1()\n",
    "    elif escolha == \"2\":\n",
    "        modo2()\n",
    "    else:\n",
    "        print(\"Inválido. Tente de novo.\")\n",
    "\n",
    "\n",
    "def modo1():\n",
    "    fosforos = 21\n",
    "    while fosforos > 1:\n",
    "        jogada_utilizador = int(input(\"Quantos fósforos vai tirar? \"))\n",
    "        fosforos = fosforos - jogada_utilizador\n",
    "        \n",
    "        if jogada_utilizador <= 4:\n",
    "            jogada_computador = 5 - jogada_utilizador\n",
    "            fosforos = fosforos - jogada_computador\n",
    "            print(f\"O computador retirou {jogada_computador} fósforos, ainda sobram {fosforos}\")\n",
    "        else:\n",
    "            fosforos = 0\n",
    "            print(\"Inválido, só pode tirar no máximo 4 fósforos. O jogo vai começar de novo.\")\n",
    "            modo1()\n",
    "    print(\"Só sobra 1 fósforo. Perdeste!\")\n",
    "            \n",
    "            \n",
    "\n",
    "import random\n",
    "def modo2():\n",
    "    fosforos = 21\n",
    "    while fosforos > 0:\n",
    "        jogada_computador = random.randint(1, 4)\n",
    "        fosforos = fosforos - jogada_computador  \n",
    "        print(f\"O computador retirou {jogada_computador} fósforos, ainda sobram {fosforos}\")  \n",
    "            \n",
    "        jogada_utilizador = int(input(\"Quantos fósforos vai retiara? \"))\n",
    "        fosforos = fosforos - jogada_utilizador\n",
    "        if fosforos == 1:\n",
    "            fosforos = 0\n",
    "            print(\"Ganhaste! O computador retirou o ultimo fósforo\")\n",
    "        elif fosforos <= 5:\n",
    "            print(f\"O computador retirou {fosforos - 1} fósforos, só sobra 1. Perdeste!\")\n",
    "            fosforos = 0\n",
    "        elif jogada_utilizador >= 5:\n",
    "            fosforos = 0\n",
    "            print(\"Inválido, só pode tirar no máximo 4 fósforos. O jogo vai começar de novo.\")\n",
    "            modo2()\n",
    "                \n",
    "                                \n",
    "jogo_fosforos()\n",
    "         "
   ]
  }
 ],
 "metadata": {
  "kernelspec": {
   "display_name": "Python 3",
   "language": "python",
   "name": "python3"
  },
  "language_info": {
   "codemirror_mode": {
    "name": "ipython",
    "version": 3
   },
   "file_extension": ".py",
   "mimetype": "text/x-python",
   "name": "python",
   "nbconvert_exporter": "python",
   "pygments_lexer": "ipython3",
   "version": "3.12.6"
  }
 },
 "nbformat": 4,
 "nbformat_minor": 2
}
