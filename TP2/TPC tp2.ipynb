{
 "cells": [
  {
   "cell_type": "code",
   "execution_count": 7,
   "metadata": {},
   "outputs": [
    {
     "name": "stdout",
     "output_type": "stream",
     "text": [
      "Bem vindo ao jogo 'Adivinha o Número'! Escolha uma das modalidades.\n",
      "Na Modalidade 1 o computador pensa num número entre 0 e 100 e você tenta adivinhar\n",
      "Na Modalidade 2 você pensa num número e o computador tenta adivinhar.\n",
      "O número que pensei é Menor\n",
      "O número que pensei é Menor\n",
      "O número que pensei é Menor\n",
      "O número que pensei é Menor\n",
      "O número que pensei é Menor\n",
      "O número que pensei é Maior\n",
      "O número que pensei é Menor\n",
      "Acertou em 8 tentativas! O número que o computador pensou era 26\n"
     ]
    }
   ],
   "source": [
    "import random\n",
    "\n",
    "def adivinha_o_numero():\n",
    "    print(\"Bem vindo ao jogo 'Adivinha o Número'! Escolha uma das modalidades.\")\n",
    "    print(\"Na Modalidade 1 o computador pensa num número entre 0 e 100 e você tenta adivinhar\")\n",
    "    print(\"Na Modalidade 2 você pensa num número e o computador tenta adivinhar.\")\n",
    "    escolha = input(\"Digite 1 ou 2 para escolher a modalidade: \")\n",
    "    \n",
    "    if escolha == \"1\":\n",
    "        adivinha_utilizador()\n",
    "    elif escolha == \"2\":\n",
    "        adivinha_computador()\n",
    "    else:\n",
    "        print(\"Inválido. Tente de novo.\")\n",
    "        \n",
    "\n",
    "def adivinha_utilizador():\n",
    "    numero_computador = random.randint(0, 100)\n",
    "    palpite_utilizador = int(input(\"Introduza o seu palpite: \"))\n",
    "    i = 1\n",
    "    \n",
    "    while palpite_utilizador != numero_computador:\n",
    "        i = i + 1\n",
    "        if palpite_utilizador < numero_computador:\n",
    "            print(\"O número que pensei é Maior\")\n",
    "        else:\n",
    "            print(\"O número que pensei é Menor\")\n",
    "        palpite_utilizador = int(input(\"Introduza o seu palpite: \"))   \n",
    "    \n",
    "    print(f\"Acertou em {i} tentativas! O número que o computador pensou era {numero_computador}\")\n",
    "\n",
    "def adivinha_computador():\n",
    "    palpite_computador = random.randint(0, 100)\n",
    "    print(f\"O computador acha que o número é {palpite_computador}\")\n",
    "    utilizador = input(\"Diga se o número que pensou é maior, menor ou o computador acertou: \") \n",
    "    tentativas = 1\n",
    "    \n",
    "    while utilizador != \"Acertou\":   \n",
    "        tentativas = tentativas + 1  \n",
    "        if utilizador == \"O número que pensei é maior\":\n",
    "            palpite_computador = random.randint(palpite_computador + 1, 100)\n",
    "        elif utilizador == \"O número que pensei é menor\":\n",
    "            palpite_computador = random.randint(1, palpite_computador - 1)\n",
    "        print(f\"O computador acha que o número é {palpite_computador}\")\n",
    "        utilizador = input(\"Diga se o número que pensou é maior, menor ou o computador acertou: \")  \n",
    "    \n",
    "    print(f\"O computador acertou em {tentativas} tentativas, o número é {palpite_computador}.\")\n",
    "    \n",
    "adivinha_o_numero()"
   ]
  }
 ],
 "metadata": {
  "kernelspec": {
   "display_name": "Python 3",
   "language": "python",
   "name": "python3"
  },
  "language_info": {
   "codemirror_mode": {
    "name": "ipython",
    "version": 3
   },
   "file_extension": ".py",
   "mimetype": "text/x-python",
   "name": "python",
   "nbconvert_exporter": "python",
   "pygments_lexer": "ipython3",
   "version": "3.12.6"
  }
 },
 "nbformat": 4,
 "nbformat_minor": 2
}
